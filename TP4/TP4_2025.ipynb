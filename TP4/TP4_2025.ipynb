{
 "cells": [
  {
   "cell_type": "markdown",
   "id": "c7d94c41-b3be-4256-8be0-1454a4e7f920",
   "metadata": {},
   "source": [
    "<h1 style=\"text-align: center;\">Trabajo Práctico N°4:</h1>\n",
    "<h1 style=\"text-align: center;\">Construcción y análisis de modelos de QSAR</h1>\n"
   ]
  },
  {
   "cell_type": "markdown",
   "id": "f1ac8354-cc9d-421f-b7cb-7756546d0bcd",
   "metadata": {},
   "source": [
    "## 🎯  Objetivos\n",
    "\n",
    "* Aplicar los criterios de Unger y Hansch para construir, evaluar y seleccionar ecuaciones de QSAR.\n",
    "* Aplicar herramientas estadísticas en modelos de regresión lineal simple y múltiple.\n",
    "* Aprender a seleccionar descriptores relevantes en base a su correlación con la actividad biológica.\n",
    "* Interpretar los coeficientes y métricas de ajuste del modelo (R², error estándar, etc.), y evaluar su capacidad predictiva."
   ]
  },
  {
   "cell_type": "markdown",
   "id": "7191a51d-1cd4-46bb-8f90-52e7e4d754c7",
   "metadata": {},
   "source": [
    "## 🔍 Introducción a QSAR\n",
    "\n",
    "El desarrollo racional de nuevos fármacos requiere cada vez más del uso de herramientas computacionales que permitan analizar, interpretar y predecir la actividad biológica de compuestos en función de su estructura química. Dentro de este marco, las **Relaciones Cuantitativas Estructura-Actividad** (QSAR, por sus siglas en inglés) constituyen una estrategia fundamental para correlacionar propiedades moleculares cuantificables con la eficacia o afinidad de una serie de compuestos frente a un blanco terapéutico común.\n",
    "\n",
    "Para construir un modelo de QSAR confiable, es necesario contar con un conjunto de moléculas adecuadamente seleccionadas: deben compartir un mismo mecanismo de acción, actuar sobre el mismo receptor, tener actividades reportadas en condiciones experimentales comparables, y presentar una diversidad estructural razonable dentro de un marco común. Además, es imprescindible preparar los datos, evaluar sus distribuciones, normalizar sus escalas y seleccionar cuidadosamente los descriptores que formarán parte del modelo.\n",
    "\n",
    "En este trabajo práctico, aplicaremos estos conceptos trabajando sobre un conjunto de agonistas que actúan sobre el receptor adrenérgico β2 que seleccionamos en el Seminario N°4. A través de diversas etapas, aprenderemos a construir modelos matemáticos que permitan correlacionar propiedades estructurales con la potencia biológica de los compuestos, evaluando el ajuste de dichos modelos y su utilidad predictiva. Para ello, aplicaremos las **reglas de Unger y Hansch**, que nos orientan sobre la forma, linealidad y relevancia de las variables utilizadas en modelos de este tipo."
   ]
  },
  {
   "cell_type": "markdown",
   "id": "342ec49b-f121-41b1-9996-3ffea733c997",
   "metadata": {},
   "source": [
    "## *Reglas de Unger y Hansch*\n",
    "\n",
    "- 📊 <u>Selección de variables independientes</u>: los descriptores elegidos deben ser independientes entre sí; con coeficientes de correlación inferior a 0.6-0.7.\n",
    "- ⚖️ <u>Justificación número de términos o variables</u>: para evitar correlación casual, debe haber 5-6 compuestos por cada descriptor o variable seleccionada.\n",
    "- 🔢 <u>Justificación de las variables independientes</u>: la mejor ecuación será aquella que presente mejores estadísticos, siendo todos los coeficientes significativamente diferentes de cero.\n",
    "- 🧘 <u>Principio de Parsimonia</u>: si las reglas anteriores se cumplen para más de un modelo, elegir el más simple.\n",
    "- 🧠 <u>Modelo final con racionalidad cualitativa</u>: el modelo seleccionado, ¿puede ser explicado o relacionado con el caso en estudio?"
   ]
  },
  {
   "cell_type": "markdown",
   "id": "dac15715-e7a8-4a46-828a-4acddfac4bdc",
   "metadata": {},
   "source": [
    "## 🧪 **Actividades**\n",
    "Los estudios de construcción y análisis de los modelos se encuentran previstos en 3 etapas secuenciales:\n",
    "\n",
    "**1.** Construcción de un modelo de QSAR inicial con un *n* limitado.\\\n",
    "**2.** Construcción de un modelo de QSAR expandido.\\\n",
    "**3.** Construcción de un modelo de QSAR con más descriptores.\\\n",
    "**4.** Construcción de un modelo de QSAR expandido con más descriptores."
   ]
  },
  {
   "cell_type": "markdown",
   "id": "81d1ba60-5224-46d4-ae5e-b0a2cfb218be",
   "metadata": {},
   "source": [
    "## **1.** Construcción de un modelo de QSAR inicial con un *n* limitado. "
   ]
  },
  {
   "cell_type": "markdown",
   "id": "424e2c5b-016c-44ba-909c-0c5324d1222d",
   "metadata": {},
   "source": [
    "En el Seminario N°4 seleccionamos un set conformado por 54 agonistas del receptor adrenérgico β2 reportados en la base de datos ChEMBL y en una patente. Les calculamos 5 descriptores (peso molecular, logP, cantidad de enlaces rotables y número de aceptores y donores de puente hidrógeno), y normalizamos los valores.\\\n",
    "Tomaremos inicialmente una muestra de esas moléculas para introducirnos en QSAR, y familiarizarnos con las reglas de Unger y Hansch."
   ]
  },
  {
   "cell_type": "code",
   "execution_count": null,
   "id": "b98dd09b-0a61-4515-ab5c-cf34969c6452",
   "metadata": {},
   "outputs": [],
   "source": [
    "from FuncionesTP4 import *"
   ]
  },
  {
   "cell_type": "code",
   "execution_count": null,
   "id": "9483ac03-0f6a-416e-8200-85d2d7d1cdf5",
   "metadata": {},
   "outputs": [],
   "source": [
    "df_agonistas_B2 = pd.read_csv('../Seminario4/df_b2_agonists_final_norm.csv') \n",
    "itables.show(df_agonistas_B2)"
   ]
  },
  {
   "cell_type": "code",
   "execution_count": null,
   "id": "5d565248-59eb-4af1-8a5c-c6e21c608b8c",
   "metadata": {},
   "outputs": [],
   "source": [
    "ids_primer_set = ['CHEMBL714', 'CHEMBL388570', 'CHEMBL1800936', 'CHEMBL1800961', \n",
    "                  'CHEMBL229401', 'CHEMBL3099659', 'CHEMBL3099661', 'CHEMBL389629', 'CHEMBL229620', 'CHEMBL4113713',]\n",
    "Primer_set = df_agonistas_B2[df_agonistas_B2['molecule_chembl_id'].isin(ids_primer_set)]\n",
    "mostrar_moleculas_por_id(Primer_set, ids_primer_set, grupo_funcional_smiles=\"CNCCO\")\n",
    "\n",
    "itables.show(Primer_set)"
   ]
  },
  {
   "cell_type": "markdown",
   "id": "9132e30c-8aa3-4a82-99cf-a506250b4beb",
   "metadata": {},
   "source": [
    "**Análisis de correlación intervariables**\n",
    "\\\n",
    "El primer paso en el estudio estadístico es la realización del análisis de correlación intervariables, de manera de descartar los pares de descriptores que tengan una alta correlación entre sí (*regla 1: independencia de variables*).\n",
    "\\\n",
    "Para ello, emplearemos una función que lo determinará automáticamente, y generará un mapa de calor (*heatmap*) con los valores de correlación indicados.\n",
    "\n",
    "📌 Analice el resultado y seleccione los pares de variables que presenten una baja correlación entre sí para que puedan conformar una relación lineal múltiple de acuerdo a las reglas de Hunger-Hansh.\n",
    "\n",
    "📌 ¿Son lógicos los resultados para aquellos pares de variables que presentan alta correlación? Justifique.\n",
    "\n",
    "📌 ¿Es aconsejable obtener ecuaciones lineales multiparamétricas? Justifique."
   ]
  },
  {
   "cell_type": "code",
   "execution_count": null,
   "id": "b4ae2d6b-adbc-43b2-8b3e-ab4359569fed",
   "metadata": {},
   "outputs": [],
   "source": [
    "graficar_heatmap_pearson(Primer_set, columna_inicio='MolWt_norm')"
   ]
  },
  {
   "cell_type": "markdown",
   "id": "38674a8f-ccf0-4f61-9258-72f3a9c9a878",
   "metadata": {},
   "source": [
    "**Confección de las ecuaciones lineales simples**\n",
    "\n",
    "Analizaremos una por una todas las posibles ecuaciones lineales simples para extraer la información estadística necesaria que nos permita seleccionar el mejor modelo de QSAR del caso en estudio.\n",
    "\n",
    "Ejecutando la siguiente función, podrán ver los gráficos de regresión, la tabla de resultados con todos los parámetros calculados, la ecuación correspondiente y el valor de R$^{2}$."
   ]
  },
  {
   "cell_type": "code",
   "execution_count": null,
   "id": "60a0603e-1db2-4ca0-84e3-bcec582bcea6",
   "metadata": {},
   "outputs": [],
   "source": [
    "descriptores = ['MolWt_norm', 'MolLogP_norm', 'NumHAcceptors_norm', 'NumHDonors_norm', 'NumRotatableBonds_norm']\n",
    "resultados = analizar_regresiones_lineales_simples(Primer_set, 'IC50_value_nM_norm', descriptores)\n",
    "resultados"
   ]
  },
  {
   "cell_type": "markdown",
   "id": "7dc2a0b4-c324-449c-bcd9-f10efe40443e",
   "metadata": {},
   "source": [
    "En base a los resultados:\n",
    "\n",
    "📌 Identifique y plantee la equación con mayor potencial predictivo, y que cumpla con las cuatro primeras reglas de Unger y Hansch. \n",
    "\n",
    "📌 Teniendo en cuenta la información provista respecto del modo de acción los agonistas del receptor adrenérgico β2, analice si los resultados del modelo de QSAR obtenidos son cualitativamente razonables."
   ]
  },
  {
   "cell_type": "markdown",
   "id": "528cf56a-b3a2-4267-83ff-d754daa33eb2",
   "metadata": {},
   "source": [
    "## **2.** Construcción de un modelo de QSAR expandido."
   ]
  },
  {
   "cell_type": "markdown",
   "id": "5ce90af4-d514-4848-8dce-c87932901794",
   "metadata": {},
   "source": [
    "Hemos identificado que usar un número reducido de moléculas, y consecuentemente solo plantear modelos simples o de descriptores únicos, no es una estrategia racional.\n",
    "Por lo tanto, ahora emplearemos un set expandido de agonistas, incluyendo solamente aquellos 39 que extrajimos originalmente de ChEMBL. "
   ]
  },
  {
   "cell_type": "code",
   "execution_count": null,
   "id": "a67ddc8c-3cc5-4956-b6b7-e2d56d74bec7",
   "metadata": {},
   "outputs": [],
   "source": [
    "df_agonistas_B2_expandido = pd.read_csv('../Seminario4/df_b2_agonists_final_norm.csv').head(39)\n",
    "df_agonistas_B2_expandido"
   ]
  },
  {
   "cell_type": "markdown",
   "id": "883e929f-4709-46c8-bfea-e4c9585a6faa",
   "metadata": {},
   "source": [
    "De la misma manera que se ha realizado en la sección anterior y siguiendo las reglas de Unger y Hansch, utilizaremos el conjunto de datos extendidos para construir un nuevo modelo de QSAR, identificando la ecuación con mayor potencial predictivo."
   ]
  },
  {
   "cell_type": "markdown",
   "id": "efdaf237-7328-4ae7-a3a9-095ca5b296d2",
   "metadata": {},
   "source": [
    "📌 Analice el mapa de correlaciones para el nuevo set de compuestos. ¿Hubo algún cambio respecto al set anterior? \n",
    "\n",
    "📌 ¿Es aconsejable obtener ecuaciones lineales multiparamétricas? Justifique.\n",
    "\n",
    "📌 Seleccione los pares de variables que presenten una baja correlación entre sí para que puedan conformar una relación lineal múltiple de acuerdo a las reglas de Hunger-Hansh."
   ]
  },
  {
   "cell_type": "code",
   "execution_count": null,
   "id": "d0b8b5f9-a9b7-4751-942a-352847eb8e01",
   "metadata": {},
   "outputs": [],
   "source": [
    "graficar_heatmap_pearson(df_agonistas_B2_expandido, columna_inicio='MolWt_norm')"
   ]
  },
  {
   "cell_type": "markdown",
   "id": "e74aee01-9911-4e4d-806e-94e71aa0516d",
   "metadata": {},
   "source": [
    "Cuando aumenta el número de moléculas y, consecuentemente, las combinaciones de descriptores que pueden combinarse en modelos multiparamétricos, el análisis de correlación puede complicarse.\n",
    "Por lo tanto, la siguiente función permite identificar y generar automáticamente todas las combinaciones posibles de ecuaciones lineales simples y multiparamétricas. \n",
    "\n",
    "Ejecútenla y verifiquen el resultado que analizaron anteriormente."
   ]
  },
  {
   "cell_type": "code",
   "execution_count": null,
   "id": "c2e7c112-1b33-42cd-adae-c272b4439103",
   "metadata": {},
   "outputs": [],
   "source": [
    "descriptores = ['MolWt_norm', 'MolLogP_norm', 'NumHAcceptors_norm', 'NumHDonors_norm', 'NumRotatableBonds_norm']\n",
    "combis_validas = obtener_combinaciones_validas(df_agonistas_B2_expandido, descriptores)\n",
    "\n",
    "print(f\"Se encontraron {len(combis_validas)} combinaciones válidas:\")\n",
    "for c in combis_validas:\n",
    "    print(c)"
   ]
  },
  {
   "cell_type": "code",
   "execution_count": null,
   "id": "426dab62-5c4a-4a77-86ca-48bbb3ae35d1",
   "metadata": {},
   "outputs": [],
   "source": [
    "df_qsar = evaluar_modelos_qsar(df_agonistas_B2_expandido, descriptores, y_col='IC50_value_nM_norm')\n",
    "itables.show(df_qsar)"
   ]
  },
  {
   "cell_type": "markdown",
   "id": "f5651430-c4b8-4a91-a540-0ebf54b7f5b3",
   "metadata": {},
   "source": [
    "En base a los resultados:\n",
    "\n",
    "📌 Identifique y plantee la equación con mayor potencial predictivo, y que cumpla con las cuatro primeras reglas de Unger y Hansch. \n",
    "\n",
    "📌 Teniendo en cuenta la información provista respecto del modo de acción los agonistas del receptor adrenérgico β2, analice si los resultados del modelo de QSAR obtenidos son cualitativamente razonables."
   ]
  },
  {
   "cell_type": "markdown",
   "id": "a057c5ea-37cf-4db5-9844-a864965dab42",
   "metadata": {},
   "source": [
    "## **3.** Construcción de un modelo de QSAR con más descriptores."
   ]
  },
  {
   "cell_type": "markdown",
   "id": "c3bce021-ad54-4bdf-acbb-2e440faa8c9e",
   "metadata": {},
   "source": [
    "Tal como aprendieron en los teóricos de QSAR, existe una gran diversidad de descriptores moleculares.\n",
    "\n",
    "En este sentido, calcularemos ahora nuevos descriptores para el set de agonistas, y repetiremos todo el análisis para intentar identificar un mejor modelo de QSAR."
   ]
  },
  {
   "cell_type": "code",
   "execution_count": null,
   "id": "7ce36f38-939c-42eb-89fd-19bb69f02404",
   "metadata": {},
   "outputs": [],
   "source": [
    "nuevos_descriptores = ['MolWtSinH', 'CargaMax', 'CargaMin', 'DensidadEstructural', 'IndiceComplejidad',\n",
    "                       'AreaAccesibleSolvente', 'RefractividadMol', 'SuperficieElectronegativa', 'SuperficieHidrofobica',\n",
    "                       'AreaSuperficial', 'AreaRefractiva', 'DistribucionElectronica', 'TPSA']\n",
    "\n",
    "df_con_descriptores = agregar_descriptores(df_agonistas_B2_expandido, seleccion=nuevos_descriptores, antes_de_columna='IC50_value_nM_norm')\n",
    "itables.show(df_con_descriptores)"
   ]
  },
  {
   "cell_type": "markdown",
   "id": "d59e98c5-5901-4858-9b4b-47f8d4e0ea73",
   "metadata": {},
   "source": [
    "Recuerden que es importante normalizar los datos, tal como hicimos con los descriptores de Lipinski."
   ]
  },
  {
   "cell_type": "code",
   "execution_count": null,
   "id": "3ea0653f-b8bb-4cef-8731-0393c5c248ee",
   "metadata": {},
   "outputs": [],
   "source": [
    "df_agonistas_B2_mas_desc = normalizar_columnas_seleccionadas(df_con_descriptores, nuevos_descriptores)\n",
    "itables.show(df_agonistas_B2_mas_desc)"
   ]
  },
  {
   "cell_type": "markdown",
   "id": "3fc934bc-2dc6-4608-a1e6-81fcdd130058",
   "metadata": {},
   "source": [
    "📌 Realice el análisis de correlación y determine todas las ecuaciones posibles.\n",
    "\n",
    "Luego, en base a los resultados:\n",
    "\n",
    "📌 Identifique y plantee la equación con mayor potencial predictivo, y que cumpla con las cuatro primeras reglas de Unger y Hansch. \n",
    "\n",
    "📌 Analice si los resultados del modelo de QSAR obtenidos son cualitativamente razonables, teniendo en cuenta la información provista respecto del modo de acción los agonistas del receptor adrenérgico β2,\n",
    "\n",
    "📌 Explique los detalles que diferencian a los modelos construidos en las tres actividades, indicando cuál de ellos considera que presenta el mayor potencial predictivo."
   ]
  },
  {
   "cell_type": "code",
   "execution_count": null,
   "id": "2080377b-a7b3-4815-abb4-6d7401c3fae3",
   "metadata": {},
   "outputs": [],
   "source": [
    "graficar_heatmap_pearson(df_agonistas_B2_mas_desc, columna_inicio='MolWt_norm')"
   ]
  },
  {
   "cell_type": "code",
   "execution_count": null,
   "id": "c34081c9-b78a-409c-a9ab-e16cc90fcf1d",
   "metadata": {},
   "outputs": [],
   "source": [
    "descriptores_nuevos = ['MolWtSinH_norm', 'CargaMax_norm', 'CargaMin_norm', 'DensidadEstructural_norm', 'IndiceComplejidad_norm',\n",
    "                       'AreaAccesibleSolvente_norm', 'RefractividadMol_norm', 'SuperficieElectronegativa_norm', 'SuperficieHidrofobica_norm',\n",
    "                       'AreaSuperficial_norm', 'AreaRefractiva_norm', 'DistribucionElectronica_norm', 'TPSA_norm', \n",
    "                       'MolWt_norm', 'NumHAcceptors_norm', 'NumHDonors_norm', 'MolLogP_norm', 'NumRotatableBonds_norm']\n",
    "\n",
    "combis_validas = obtener_combinaciones_validas(df_agonistas_B2_mas_desc, descriptores_nuevos)\n",
    "\n",
    "print(f\"Se encontraron {len(combis_validas)} combinaciones válidas!\")"
   ]
  },
  {
   "cell_type": "code",
   "execution_count": null,
   "id": "71e4e863-4a0b-448d-811f-edf92f39b905",
   "metadata": {},
   "outputs": [],
   "source": [
    "df_qsar_new = evaluar_modelos_qsar(df_agonistas_B2_mas_desc, descriptores_nuevos, y_col='IC50_value_nM_norm')\n",
    "itables.show(df_qsar_new)"
   ]
  },
  {
   "cell_type": "markdown",
   "id": "c4a8a812-5d4d-49e6-ad86-6115fb679c19",
   "metadata": {},
   "source": [
    "**ESTO NO QUEDARÍA INCLUIDO**, solamente lo agregué a modo de análisis para nosotros.\n",
    "\n",
    "IC50 = 0.8454(± 0.7873)* *AreaSuperficial* - 0.2045(±0.0474)* *SuperficieHidrofobica* - 0.2156(±0.0460)* *SuperficieElectronegativa* + 0.1788(±0.0686)* *NumRotatableBonds* - 0.113 \n",
    "\n",
    "**<u>AreaSuperficial</u>**: Coeficiente positivo y el mayor => Moléculas excesivamente voluminosas aumentan IC50, disminuyendo la potencia.\n",
    "\n",
    "**<u>SuperficieHidrofobica</u>** Coeficiente negativo => Refleja que las moléculas deben ser preferentemente lipofílicas para aumentar la potencia (disminuir IC50).\n",
    "\n",
    "**<u>SuperficieElectronegativa</u>**: Coeficiente negativo => Sugiere que se necesitan regiones con cierta electronegatividad, lo que podría reflejarse tanto en la necesidad de grupos básicos y capaces de establecer - por ejemplo - interacciones puente hidrógeno.\n",
    "\n",
    "**<u>NumRotatableBonds</u>**: Coeficiente positivo => Moléculas muy flexibles disminuyen la potencia.\n"
   ]
  },
  {
   "cell_type": "markdown",
   "id": "09fd2e9e-4140-44ee-9525-3b0c3b8254c0",
   "metadata": {},
   "source": [
    "## **4.** Construcción de un modelo de QSAR expandido con más descriptores."
   ]
  },
  {
   "cell_type": "markdown",
   "id": "cb040fef-650f-4088-94cc-782ed12f1b2e",
   "metadata": {},
   "source": [
    "En el Seminario N°4, tras un análisis bibliográfico, agregamos 15 agonistas β₂ extraidos de una patente farmacéutica, que poseían gran semejanza estructural con las 39 moléculas previamente extraídas de ChEMBL. Si el modelo de QSAR seleccionado es suficientemente robusto, la inclusión de estas moléculas no debería modificar significativamente el resultado final. ¡Corroborémoslo!"
   ]
  },
  {
   "cell_type": "code",
   "execution_count": null,
   "id": "e9c056df-1b78-4d9c-8146-691daeff1a09",
   "metadata": {},
   "outputs": [],
   "source": [
    "df_agonistas_B2_expandido_final = pd.read_csv('../Seminario4/df_b2_agonists_final_norm.csv') \n",
    "df_agonistas_B2_expandido_final_desc = agregar_descriptores(df_agonistas_B2_expandido_final, seleccion=nuevos_descriptores, antes_de_columna='IC50_value_nM_norm')\n",
    "df_agonistas_B2_expandido_final_desc = normalizar_columnas_seleccionadas(df_agonistas_B2_expandido_final_desc, nuevos_descriptores)\n",
    "\n",
    "itables.show(df_agonistas_B2_expandido_final_desc)"
   ]
  },
  {
   "cell_type": "code",
   "execution_count": null,
   "id": "227a0d21-635d-426b-b5f6-bd0070710afa",
   "metadata": {},
   "outputs": [],
   "source": [
    "combis_validas = obtener_combinaciones_validas(df_agonistas_B2_expandido_final_desc, descriptores_nuevos)\n",
    "\n",
    "print(f\"Se encontraron {len(combis_validas)} combinaciones válidas!\")"
   ]
  },
  {
   "cell_type": "code",
   "execution_count": null,
   "id": "c33f8fe8-82bd-43bf-9cf3-0b8b6a85f679",
   "metadata": {},
   "outputs": [],
   "source": [
    "df_qsar_new = evaluar_modelos_qsar(df_agonistas_B2_expandido_final_desc, descriptores_nuevos, y_col='IC50_value_nM_norm')\n",
    "itables.show(df_qsar_new)"
   ]
  },
  {
   "cell_type": "markdown",
   "id": "9f583142-e9fb-45e8-8ade-0d3ab3cf90bc",
   "metadata": {},
   "source": [
    "**ESTO NO QUEDARÍA INCLUIDO**, solamente lo agregué a modo de análisis para nosotros.\n",
    "\n",
    "IC50 = 0.8446(± 0.0601)* *AreaSuperficial* - 0.2053(±0.0356)* *SuperficieHidrofobica* - 0.2162(±0.0366)* *SuperficieElectronegativa* + 0.1793(±0.0556)* *NumRotatableBonds* - 0.1127 \n"
   ]
  }
 ],
 "metadata": {
  "kernelspec": {
   "display_name": "Python 3 (ipykernel)",
   "language": "python",
   "name": "python3"
  },
  "language_info": {
   "codemirror_mode": {
    "name": "ipython",
    "version": 3
   },
   "file_extension": ".py",
   "mimetype": "text/x-python",
   "name": "python",
   "nbconvert_exporter": "python",
   "pygments_lexer": "ipython3",
   "version": "3.10.5"
  }
 },
 "nbformat": 4,
 "nbformat_minor": 5
}
