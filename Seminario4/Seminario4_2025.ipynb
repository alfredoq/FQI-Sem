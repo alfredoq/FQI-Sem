{
 "cells": [
  {
   "cell_type": "markdown",
   "id": "630f8ecd-43ec-43ee-98a3-3e7f087348c5",
   "metadata": {},
   "source": [
    "<h1 style=\"text-align: center;\">Seminario N°4:</h1>\n",
    "<h1 style=\"text-align: center;\">Compilación de sets de datos para QSAR</h1>\n"
   ]
  },
  {
   "cell_type": "markdown",
   "id": "2f19f1d6-c27d-4963-9b70-bd9d0dc0de75",
   "metadata": {},
   "source": [
    "## 🎯  Objetivos\n",
    "\n",
    "* Conocer el manejo de bases de datos disponibles para poder llevar cabo un análisis sistemático de relaciones estructura-actividad (SAR).\n",
    "* Aplicar los conocimientos adquiridos en las actividades previas (Sem. y TP N°1 a 3) a un caso de estudio concreto y clínicamente relevante.\n",
    "* Construir un conjunto de datos a ser utilizado en el TP N°4 para construir modelos de QSAR."
   ]
  },
  {
   "cell_type": "markdown",
   "id": "7c936de1-a016-4343-9cbe-19891eefee2c",
   "metadata": {},
   "source": [
    "## 🔍 Introducción a las bases de datos químicas en QSAR\n",
    "\n",
    "El desarrollo de modelos de relaciones cuantitativas estructura-actividad (QSAR) requiere contar con **conjuntos de datos curados, estructurados y relevantes**, tanto desde el punto de vista químico como biológico. Afortunadamente, existen numerosas **bases de datos públicas** que centralizan información sobre compuestos bioactivos, sus estructuras químicas, propiedades fisicoquímicas y actividades biológicas medidas experimentalmente.\n",
    "\n",
    "Entre las más utilizadas en química medicinal y para el diseño de fármacos, se destacan:\n",
    "\n",
    "- **PubChem**: a cargo del National Center for Biotechnology Information (NCBI); contiene millones de compuestos, bioensayos y datos experimentales.\n",
    "- **ChEMBL**: a cargo del European Molecular Biology Laboratory del European Bioinformatics Institute (EMBL-EBI), con datos extraídos de literatura científica.\n",
    "- **DrugBank**, **BindingDB**, **ZINC**, **PDB**, entre otras.\n",
    "\n",
    "Cada una tiene características particulares, pero en esta actividad emplearemos ChEMBL: https://www.ebi.ac.uk/chembl/.\n",
    "\n",
    "\n",
    "---\n",
    "\n",
    "## 📦 ¿Qué es ChEMBL?\n",
    "\n",
    "**ChEMBL** es una base de datos de bioactividad de compuestos químicos con interés farmacéutico/farmacológico, generada y mantenida por el EMBL-EBI. Algunos tipos de datos que reúne son:\n",
    "\n",
    "- Información estructural y propiedades biofarmacéuticas (SMILES, InChI, peso molecular, logP, etc.) de compuestos.\n",
    "- Información farmacológica (mecanismo de acción, fase clínica, nombre comercial).\n",
    "- Actividades biológicas (IC₅₀, Kᵢ, EC₅₀, etc.) contra blancos moleculares definidos.\n",
    "- Ensayos experimentales reportados en literatura, con conexión directa a la bibliografía.\n",
    "\n",
    "<img src=\"ChEMBL.png\" alt=\"Figura 1\" width=\"600\"/>\n",
    "\n",
    "Los compuestos están organizados en torno a **blancos terapéuticos** (enzimas, receptores, transportadores) y pueden tener distintas **acciones farmacológicas** como agonistas, antagonistas, inhibidores u otros mecanismos.\n",
    "\n",
    "Esto la convierte en una **fuente valiosa para desarrollar modelos QSAR**, ya que ofrece datos confiables y bien clasificados, fundamentales para correlacionar estructuras, propiedades y actividad biológica.\n",
    "\n",
    "---\n",
    "\n",
    "## 🎯 ¿Qué haremos en este seminario?\n",
    "\n",
    "En esta clase aprenderemos a:\n",
    "\n",
    "1. **Buscar, filtrar y compilar datos desde ChEMBL**, seleccionando un blanco biológico clínicamente relevante.\n",
    "2. **Procesar y limpiar los datos**: por ejemplo, al eliminar duplicados, entradas inválidas o incompletas.\n",
    "3. **Visualizar estructuras y propiedades moleculares**, y preparar los datos para su análisis.\n",
    "4. **Explorar el espacio químico de los ligandos** para evaluar diferencias y semejanzas estructurales y de propiedades.\n",
    "5. **Construir un conjunto de datos estructurado** para su uso posterior en modelos QSAR (TP N°4).\n",
    "\n",
    "---\n"
   ]
  },
  {
   "cell_type": "markdown",
   "id": "8d6bfd0a-ed38-40cb-8887-94cae66a2367",
   "metadata": {},
   "source": [
    "### 🔧 Instalación de ChEMBL en Python\n",
    "\n",
    "Para poder acceder a la base de datos **ChEMBL** sin necesidad de trabajar en la página web, vamos a utilizar un **módulo oficial** que nos permite hacer consultas directas usando funciones simples.\n",
    "\n",
    "Podemos instalarlo ejecutando la siguiente celda de código:"
   ]
  },
  {
   "cell_type": "code",
   "execution_count": null,
   "id": "9fc3fc7d-3072-4d29-b931-b941f154ff76",
   "metadata": {},
   "outputs": [],
   "source": [
    "!pip install chembl_webresource_client"
   ]
  },
  {
   "cell_type": "markdown",
   "id": "a621c7d5-bf89-4b7d-a54e-d4676586507e",
   "metadata": {},
   "source": [
    "Además, como lo hemos hecho siempre, vamos a importar algunas **funciones específicas** que hemos preparado para esta clase a través del siguiente código:"
   ]
  },
  {
   "cell_type": "code",
   "execution_count": null,
   "id": "91f7ca5b-85bc-43a9-8da4-dea790383d3c",
   "metadata": {},
   "outputs": [],
   "source": [
    "!pip install numpy==1.24.4\n",
    "!pip install chemplot\n",
    "from FuncionesSem4 import *"
   ]
  },
  {
   "cell_type": "markdown",
   "id": "d9cd6054-343a-45a2-a065-e25d7f2a6a39",
   "metadata": {},
   "source": [
    "### 🔎 Búsqueda de información sobre un fármaco conocido\n",
    "\n",
    "La siguiente función permite buscar compuestos en ChEMBL utilizando su nombre comercial o genérico, y devuelve **toda** la información disponible para cada molécula.\n"
   ]
  },
  {
   "cell_type": "code",
   "execution_count": null,
   "id": "bcc0b6a3-1dc6-4587-aef2-906ad397ac06",
   "metadata": {},
   "outputs": [],
   "source": [
    "df_farmaco = buscar_info_nombre_comercial(\"propranolol\")\n",
    "itables.show(df_farmaco)"
   ]
  },
  {
   "cell_type": "markdown",
   "id": "22e4c6eb-0695-4740-b5d8-1f046f388c60",
   "metadata": {},
   "source": [
    "### 🧬 Buscar información sobre un blanco terapéutico conocido\n",
    "\n",
    "Además de fármacos, podríamos desear conocer información sobre blancos terapéuticos. La siguiente función permite buscar dichos datos en ChEMBL utilizando una palabra clave de receptores, enzimas, canales, etc., y devuelve **toda** la información asociada. \n"
   ]
  },
  {
   "cell_type": "code",
   "execution_count": null,
   "id": "df6f6bea-7b41-492c-b252-f0a6a892a25b",
   "metadata": {},
   "outputs": [],
   "source": [
    "df_target = buscar_info_target(\"adrenergic\")\n",
    "itables.show(df_target)"
   ]
  },
  {
   "cell_type": "markdown",
   "id": "4de1eb67-25cd-4526-9659-b9fd3158f8c7",
   "metadata": {},
   "source": [
    "Ahora que ya conocemos a grandes rasgos cómo acceder y qué información podemos obtener de ChEMBL, podemos enfocarnos en un caso clínico concreto: **fármacos adrenérgicos**."
   ]
  },
  {
   "cell_type": "markdown",
   "id": "00c68ea9-f4a7-4a02-a49c-5eed8b2622a0",
   "metadata": {},
   "source": [
    "<h1 style=\"text-align: center;\">Caso de estudio: Fármacos adrenérgicos</h1>"
   ]
  },
  {
   "cell_type": "markdown",
   "id": "439b3257-0b8a-43b1-ba42-0c25258142c0",
   "metadata": {},
   "source": [
    "## 🔍 Exploración de ligandos adrenérgicos en fase clínica\n",
    "\n",
    "\n",
    "📌 **Objetivo**: Obtener todos los ligandos (agonistas y antagonistas) de los cuatro principales receptores adrenérgicos humanos (α1, α2, β1 y β2) que se encuentran en fase 4 de desarrollo clínico (es decir, ya están aprobados o disponibles comercialmente), poseen estructura química conocida (SMILES disponibles), y tienen definido su mecanismo de acción farmacológica como agonistas o antagonistas.\n",
    "\n",
    "La función que vamos a utilizar hace todo eso automáticamente y nos devuelve un único DataFrame con la siguiente información para cada compuesto:\n",
    "\n",
    "* Su identificador ChEMBL ID,\n",
    "* Su nombre comercial (si está disponible),\n",
    "* Su estructura química (SMILES),\n",
    "* El receptor en el que actúa,\n",
    "* El tipo de acción (agonista o antagonista),\n",
    "\n"
   ]
  },
  {
   "cell_type": "code",
   "execution_count": null,
   "id": "0bd7196f-0d72-4d22-bbeb-c9fd3b6d3bd4",
   "metadata": {},
   "outputs": [],
   "source": [
    "receptores = {\n",
    "    \"A1\": \"CHEMBL2094251\", \n",
    "    \"A2\": \"CHEMBL2095158\",\n",
    "    \"B1\": \"CHEMBL213\",\n",
    "    \"B2\": \"CHEMBL210\"\n",
    "}\n",
    "\n",
    "df_ligandos = obtener_agonistas_antagonistas_adrenergicos(receptores)\n",
    "itables.show(df_ligandos)"
   ]
  },
  {
   "cell_type": "markdown",
   "id": "fa664f3b-b1a5-4407-8e88-17dfc8f5b8b5",
   "metadata": {},
   "source": [
    "📸 **Visualizar** sus estructuras químicas puede ser muy útil. \n",
    "\n",
    "Para esto, vamos a utilizar la siguiente función que nos permite representar un conjunto de moléculas alineadas y organizadas por receptor, tipo de acción y nombre comercial.\n",
    "\n",
    "Si queremos visualizar TODOS los resultados, la ejecutamos de la siguiente manera:"
   ]
  },
  {
   "cell_type": "code",
   "execution_count": null,
   "id": "915205ac-43da-4b27-90d9-fa03527b0723",
   "metadata": {},
   "outputs": [],
   "source": [
    "# Mostrar ambos tipos de acción para todos los receptores\n",
    "dibujar_moleculas(df_ligandos)"
   ]
  },
  {
   "cell_type": "markdown",
   "id": "711e07ee-c776-49b4-974a-9efab189835a",
   "metadata": {},
   "source": [
    "📸 También podríamos definir qué datos dibujar. Por ejemplo, solamente agonistas de todos los receptores."
   ]
  },
  {
   "cell_type": "code",
   "execution_count": null,
   "id": "b51c1370-7dce-4dfd-99ba-88e1c635fdb2",
   "metadata": {},
   "outputs": [],
   "source": [
    "# Mostrar todos los agonistas \n",
    "dibujar_moleculas(df_ligandos, tipo_accion=\"AGONIST\")"
   ]
  },
  {
   "cell_type": "markdown",
   "id": "b1985e86-d36a-4345-ac15-58f42f6a56f7",
   "metadata": {},
   "source": [
    "📸 O ser más específicos aún, y dibujar solamente aquellos con cierta actividad sobre blanco(s) en particular."
   ]
  },
  {
   "cell_type": "code",
   "execution_count": null,
   "id": "6059e0d0-a724-4209-97af-9fd56ff2d36f",
   "metadata": {},
   "outputs": [],
   "source": [
    "# Mostrar todos los agonistas de B2\n",
    "dibujar_moleculas(df_ligandos, receptores_seleccionados=[\"B2\"], tipo_accion=\"AGONIST\")"
   ]
  },
  {
   "cell_type": "markdown",
   "id": "a4c16106-5702-4343-a00a-88f5631dbfb0",
   "metadata": {
    "tags": []
   },
   "source": [
    "#### 💡 Analice las siguientes estructuras, ¿identifican características comunes? ¿Cuál/es?\n",
    "\n",
    "#### 💡 Ejecute las siguientes funciones para comparar la estructura de epinefrina (prototipo) con el de algunos de los fármacos aprobados. ¿Qué estrategias de diseño logran identificar? ¿Con qué fin creen que se han aplicado?\n"
   ]
  },
  {
   "cell_type": "code",
   "execution_count": null,
   "id": "6a5b4be3-53b7-4521-b50c-78c62c274562",
   "metadata": {},
   "outputs": [],
   "source": [
    "ids_moleculas = [\"RIMITEROL\", \"ISOETHARINE HYDROCHLORIDE\", \"BITOLTEROL MESYLATE\"]  \n",
    "comparar_moleculas_con_template(df_ligandos, ids_moleculas, smiles_template=\"CNCC(O)c1ccccc1\")"
   ]
  },
  {
   "cell_type": "code",
   "execution_count": null,
   "id": "1a4f131f-ddc6-44ac-af8d-c46107430a09",
   "metadata": {},
   "outputs": [],
   "source": [
    "ids_moleculas = [\"FENOTEROL\", \"METAPROTERENOL SULFATE\", \"TERBUTALINE SULFATE\", \"REPROTEROL\"]  \n",
    "comparar_moleculas_con_template(df_ligandos, ids_moleculas, smiles_template=\"CNCC(O)c1ccccc1\")"
   ]
  },
  {
   "cell_type": "code",
   "execution_count": null,
   "id": "635be54d-bb84-4127-88d5-3c6b0114cf66",
   "metadata": {},
   "outputs": [],
   "source": [
    "ids_moleculas = [\"ALBUTEROL\", \"PIRBUTEROL ACETATE\", \"CLENBUTEROL\"]\n",
    "comparar_moleculas_con_template(df_ligandos, ids_moleculas, smiles_template=\"CNCCO\")"
   ]
  },
  {
   "cell_type": "code",
   "execution_count": null,
   "id": "246a36e6-57ec-4983-a695-c427ef5e6ab7",
   "metadata": {},
   "outputs": [],
   "source": [
    "ids_moleculas = [\"ALBUTEROL\", \"ALBUTEROL SULFATE\", \"LEVALBUTEROL HYDROCHLORIDE\", \"LEVALBUTEROL TARTRATE\"]\n",
    "comparar_moleculas_con_template(df_ligandos, ids_moleculas, smiles_template=\"CNCCO\")"
   ]
  },
  {
   "cell_type": "markdown",
   "id": "5b2ffb8f-900f-43d6-b897-c8d4503f8ca0",
   "metadata": {},
   "source": [
    "Desde el inicio del cuatrimestre, hemos enfatizado la importancia de las **propiedades** de los fármacos (o potenciales fármacos) y su relación con la estructura química y la actividad biológica. Hemos discutido, además, ciertos valores de referencia que la mayoría de los fármacos comparten. Estas características comunes, que definen la viabilidad de un compuesto como potencial fármaco, se agrupan bajo lo que se conoce como las propiedades **\"drug-like\"**.\n",
    "\n",
    "Una de las teorías más comúnmente aplicadas en el proceso de diseño de fármacos es la de **Lipinski**, que establece una serie de reglas o límites para propiedades drug-like clave, como el **peso molecular** (<500), el **logP** (<5), la cantidad de **grupos donores** (<5) **y aceptores** (<10) **de puente hidrógeno**, y la **flexibilidad** (<10 enlaces rotables), que suelen ser características comunes en los fármacos orales efectivos. Según las reglas de Lipinski, un compuesto con más de uno de estos parámetros fuera de los rangos establecidos es menos probable que sea un buen candidato para ser un fármaco oral.\n",
    "\n",
    "A continuación, analizaremos las propiedades de varios ligandos aprobados para su uso clínico y las compararemos con las propiedades \"drug-like\" propuestas por Lipinski, observando cómo se alinean con lo que hemos aprendido hasta ahora sobre diseño de fármacos"
   ]
  },
  {
   "cell_type": "code",
   "execution_count": null,
   "id": "4d257e47-19f2-4cc2-973e-aebf1b9b7b9e",
   "metadata": {},
   "outputs": [],
   "source": [
    "df_ligandos = calcular_propiedades(df_ligandos)\n",
    "itables.show(df_ligandos)"
   ]
  },
  {
   "cell_type": "markdown",
   "id": "f5e9312b-81ad-4bbb-8508-bbb53576e0c0",
   "metadata": {},
   "source": [
    "Para facilitar el análisis, veámoslo gráficamente... ¿Cumplen con las reglas de Lipinski?"
   ]
  },
  {
   "cell_type": "code",
   "execution_count": null,
   "id": "eb97a1dd-939c-40e8-893f-fd0f58e038ed",
   "metadata": {},
   "outputs": [],
   "source": [
    "graficar_distribucion_descriptores(df_ligandos)"
   ]
  },
  {
   "cell_type": "markdown",
   "id": "ce14699e-7ab5-474b-a497-b7419a1df789",
   "metadata": {},
   "source": [
    "Ya hemos analizado los fármacos adrenérgicos que se encuentran aprobados para su uso clínico. Sin embargo, como dijimos al inicio, en ChEMBL también podemos obtener información de todas las moléculas que han sido evaluadas frente a estos blancos terapéuticos, hayan llegado o no a fase clínica. "
   ]
  },
  {
   "cell_type": "markdown",
   "id": "46102057-34f2-483e-8d21-c0729d72c9ac",
   "metadata": {},
   "source": [
    "## 🔍 Exploración de ligandos adrenérgicos en fase exploratoria, preclínica y/o clínica\n"
   ]
  },
  {
   "cell_type": "markdown",
   "id": "c3db8a79-2d93-486b-abd5-d0dcd82af9d9",
   "metadata": {},
   "source": [
    "Comencemos por extraer todos los ligandos que posean algún tipo de reporte de actividad frente a los 4 receptores adrenérgicos, independientemente de si han avanzado o no hacia ensayos clínicos."
   ]
  },
  {
   "cell_type": "code",
   "execution_count": null,
   "id": "c1e332af-9297-4e5e-a4af-cf5f4841a7e8",
   "metadata": {},
   "outputs": [],
   "source": [
    "df_adrenergicos = descargar_ligandos_adrenergicos(receptores, df_ligandos)\n",
    "df_adrenergicos"
   ]
  },
  {
   "cell_type": "markdown",
   "id": "2781ea06-766e-4879-a3d9-08da59b5c0e2",
   "metadata": {},
   "source": [
    "Como observan en la tabla, muchos ligandos pueden tener varios tipos de actividad biológica reportada (IC50, Ki, Kd, EC50, % de inhibición, etc.). \n",
    "Contemos entonces cuántos ligandos *únicos* hay reportado para cada receptor:"
   ]
  },
  {
   "cell_type": "code",
   "execution_count": null,
   "id": "92b8bb57-77d4-44c1-9d66-964b8b82760a",
   "metadata": {},
   "outputs": [],
   "source": [
    "contar_ligandos_unicos_por_receptor(df_adrenergicos)"
   ]
  },
  {
   "cell_type": "markdown",
   "id": "47c07463-ebd3-424a-98dc-24f6903a7d4e",
   "metadata": {},
   "source": [
    "Asimismo, pueden existir ligandos que hayan sido evaluados frente a varios receptores, con resultados de actividad biológica idéntica, similar o diferente. "
   ]
  },
  {
   "cell_type": "code",
   "execution_count": null,
   "id": "1f7848b1-5c8c-4878-8c8f-2f7883e7bffa",
   "metadata": {},
   "outputs": [],
   "source": [
    "df_pivot = actividad_por_receptor(df_adrenergicos, tipo_actividad=\"IC50\")\n",
    "itables.show(df_pivot)"
   ]
  },
  {
   "cell_type": "markdown",
   "id": "fe8e839f-55ec-4a85-952f-495a1b8af752",
   "metadata": {},
   "source": [
    "#### **Espacio Químico**\n",
    "\n",
    "En el ámbito de la química computacional y el diseño de fármacos, uno de los principales retos es comprender la relación entre la estructura molecular y sus propiedades. Una de las estrategias empleadas es visualizarlas en un **espacio químico**, en el que cada molécula se representa como un punto en un espacio multidimensional, basado en sus propiedades. Sin embargo, la representación de este espacio puede ser difícil de manejar debido a su alta dimensionalidad, especialmente cuando estamos trabajando con cientos o miles de compuestos.\n",
    "\n",
    "Una de las técnicas más utilizadas para abordar este problema es la *reducción de dimensionalidad*, que nos permite proyectar este espacio químico multidimensional en una forma más comprensible y visualmente interpretable, manteniendo la mayor cantidad de información posible sobre las relaciones estructurales de las moléculas. Entre las herramientas más poderosas en este campo se encuentra *UMAP* (Uniform Manifold Approximation and Projection). UMAP es un algoritmo de reducción de dimensionalidad no lineal que se ha destacado por su capacidad para preservar las relaciones locales y globales en los datos, lo que lo hace ideal para representar estructuras químicas complejas.\n",
    "\n",
    "En particular, el uso de UMAP permite representar un conjunto de estructuras de manera que **las moléculas químicamente similares se agrupen en el espacio reducido, mientras que las moléculas disímiles se separen**. Esto facilita la visualización de clusters o patrones que podrían no ser evidentes en la estructura original de los datos.\n",
    "\n",
    "Para facilitar aún más la interpretación visual de estos datos, se han desarrollado herramientas como los **mapas químicos** o **chemplots**, que permiten representar gráficamente, intuitivamente y estéticamente agradables estos espacios químicos reducidos. \n",
    "\n",
    "Veamos un ejemplo de este tipo de mapas, aplicado a los ligandos adrenérgicos que filtramos. Primero, deberemos instalar el módulo *chemplot*, luego aplicar la reducción de dimensionalidad mediante UMAP (puede llevar un par de minutos), y finalmente graficar el resultado."
   ]
  },
  {
   "cell_type": "code",
   "execution_count": null,
   "id": "d0c470b3-3f0c-4e11-971e-d13fe230686d",
   "metadata": {},
   "outputs": [],
   "source": [
    "!pip install chemplot"
   ]
  },
  {
   "cell_type": "code",
   "execution_count": null,
   "id": "858b5e0f-acae-4477-bf13-434a4853d073",
   "metadata": {},
   "outputs": [],
   "source": [
    "df_adrenergicos_chemspace = determinar_chemspace(df_adrenergicos)\n",
    "df_adrenergicos_chemspace"
   ]
  },
  {
   "cell_type": "code",
   "execution_count": null,
   "id": "ad23b9fc-090e-4764-bbbe-0709ca32067d",
   "metadata": {},
   "outputs": [],
   "source": [
    "graficar_espacio_quimico(df_adrenergicos_chemspace)"
   ]
  },
  {
   "cell_type": "markdown",
   "id": "8059a527-f849-4b6a-9868-980cc6b001e9",
   "metadata": {},
   "source": [
    "#### **Preparación de datos para QSAR: agonistas β2 como fármacos broncodilatadores**\n",
    "\n",
    "Para poder llevar adelante un análisis de relaciones cuantitativas estructura-actividad (QSAR), es fundamental trabajar con un conjunto de moléculas que compartan ciertas características. Idealmente, estas moléculas deben tener afinidad por el mismo blanco terapéutico, actuar mediante un mecanismo de acción similar, presentar cierto grado de semejanza estructural entre sí, y contar con datos de actividad biológica medidos bajo condiciones experimentales comparables. Esto asegura que las variaciones en la actividad puedan atribuirse, en buena medida, a diferencias estructurales y no a otros factores externos.\n",
    "\n",
    "Con este objetivo en mente, y enfocándonos en compuestos activos sobre el receptor adrenérgico β2, vamos a aislar un subconjunto representativo de moléculas que cumplan con estos criterios. Este conjunto será utilizado en el TP N°4 como base para construir y evaluar modelos QSAR, facilitando así la interpretación y la predicción de relaciones estructura-actividad en este sistema biológico de interés.\n",
    "\n",
    "Comencemos por separar ligandos con actividad frente a receptores beta de aquellos activos frente al receptor alfa."
   ]
  },
  {
   "cell_type": "code",
   "execution_count": null,
   "id": "63c49e76-65a7-44a4-bea0-1fb671afeb3a",
   "metadata": {},
   "outputs": [],
   "source": [
    "df_alfa, df_beta = separar_alfa_beta(df_adrenergicos_chemspace)"
   ]
  },
  {
   "cell_type": "code",
   "execution_count": null,
   "id": "2898918c-ce8f-475b-8dc6-090fe8f6b1f9",
   "metadata": {},
   "outputs": [],
   "source": [
    "df_alfa"
   ]
  },
  {
   "cell_type": "code",
   "execution_count": null,
   "id": "61671c47-b5f5-4843-beb5-1dda52dfe580",
   "metadata": {},
   "outputs": [],
   "source": [
    "graficar_espacio_quimico_con_filtro(df_adrenergicos_chemspace, df_alfa)"
   ]
  },
  {
   "cell_type": "code",
   "execution_count": null,
   "id": "231cbc36-9f91-470b-952f-f7b411a6b142",
   "metadata": {},
   "outputs": [],
   "source": [
    "df_beta"
   ]
  },
  {
   "cell_type": "code",
   "execution_count": null,
   "id": "08559de5-194d-45bc-8ce6-a431dc9a63b8",
   "metadata": {},
   "outputs": [],
   "source": [
    "graficar_espacio_quimico_con_filtro(df_adrenergicos_chemspace, df_beta)"
   ]
  },
  {
   "cell_type": "markdown",
   "id": "7fc3d668-d5c1-4eea-9d1b-6b92e1bda522",
   "metadata": {},
   "source": [
    "Y ahora, aislemos solamente a los que tienen actividad frente al receptor β2."
   ]
  },
  {
   "cell_type": "code",
   "execution_count": null,
   "id": "91d85f85-93c2-421a-af59-7e70618aaeea",
   "metadata": {},
   "outputs": [],
   "source": [
    "df_beta1, df_beta2 = separar_beta1_beta2(df_beta)"
   ]
  },
  {
   "cell_type": "code",
   "execution_count": null,
   "id": "aad27e52-3c3b-474e-b3f4-18e9ee2815e6",
   "metadata": {},
   "outputs": [],
   "source": [
    "df_beta1"
   ]
  },
  {
   "cell_type": "code",
   "execution_count": null,
   "id": "3cad4fde-4535-4bb3-b7d1-d6aeaa01faee",
   "metadata": {},
   "outputs": [],
   "source": [
    "graficar_espacio_quimico_con_filtro(df_adrenergicos_chemspace, df_beta1)"
   ]
  },
  {
   "cell_type": "code",
   "execution_count": null,
   "id": "30088916-b6bb-4644-ad95-743e5aa6b750",
   "metadata": {},
   "outputs": [],
   "source": [
    "df_beta2"
   ]
  },
  {
   "cell_type": "code",
   "execution_count": null,
   "id": "fe88e05a-f123-452c-b9f4-3322997bf3b6",
   "metadata": {},
   "outputs": [],
   "source": [
    "graficar_espacio_quimico_con_filtro(df_adrenergicos_chemspace, df_beta2)"
   ]
  },
  {
   "cell_type": "markdown",
   "id": "1e472e72-88bd-4ad2-a4d0-07108385217a",
   "metadata": {},
   "source": [
    "Recordemos que uno de los requisitos fundamentales para realizar un análisis QSAR apropiado es que la potencia o actividad biológica de las moléculas esté expresada en el mismo tipo de parámetro y en las mismas unidades. Esto permite una comparación directa entre compuestos y asegura la coherencia de los modelos. Por esta razón, vamos a seleccionar exclusivamente aquellos ligandos del receptor adrenérgico β2 que tengan valores de IC50 reportados, ya que este es uno de los parámetros más comúnmente utilizados en la literatura para cuantificar actividad biológica."
   ]
  },
  {
   "cell_type": "code",
   "execution_count": null,
   "id": "dbc2d665-7d74-475f-8629-6e0cf2272bd0",
   "metadata": {},
   "outputs": [],
   "source": [
    "df_beta2_IC50 = aislar_actividad_biologica(df_beta2, tipo='IC50')\n",
    "itables.show(df_beta2_IC50)"
   ]
  },
  {
   "cell_type": "markdown",
   "id": "9b2c5bfc-f955-4b6f-8b09-6c73927d5044",
   "metadata": {},
   "source": [
    "Ahora nos enfrentamos a un problema. Como vemos en la tabla, en la columna *action_type*, muy pocos ligandos tienen informado su mecanismo de acción frente al receptor β2 adrenérgico, lo que a priori dificultaría la identificación de moléculas que actúan como agonistas o antagonistas de este blanco terapéutico. Sin embargo, al comparar las estructuras químicas de ligandos con distinto mecanismo, podemos encontrar una diferencia crucial que nos ayudará a clasificarlos. \n",
    "\n",
    "Ejecuten las siguientes funciones e intenten descifrar dicha diferencia:"
   ]
  },
  {
   "cell_type": "code",
   "execution_count": null,
   "id": "c79f1023-3e07-4373-9173-030e3103f432",
   "metadata": {},
   "outputs": [],
   "source": [
    "#Agonistas β2 \n",
    "ids_moleculas = [\"ISOPROTERENOL\", \"ALBUTEROL\",\"CLENBUTEROL\"] \n",
    "comparar_moleculas_con_template(df_beta2_IC50, ids_moleculas, smiles_template=\"CNCCO\")"
   ]
  },
  {
   "cell_type": "code",
   "execution_count": null,
   "id": "f130a517-4b23-4236-af9d-7c32e447d1d6",
   "metadata": {},
   "outputs": [],
   "source": [
    "#Antagonistas β2 \n",
    "ids_moleculas = [\"TIMOLOL\", \"CARVEDILOL\", \"PROPRANOLOL HYDROCHLORIDE\", \"ATENOLOL\"]\n",
    "comparar_moleculas_con_template(df_beta2_IC50, ids_moleculas, smiles_template=\"CNCCO\")"
   ]
  },
  {
   "cell_type": "markdown",
   "id": "22017d76-7d53-4e06-b5ad-a36d4ca30014",
   "metadata": {},
   "source": [
    "Efectivamente, está ampliamente reportado que los antagonistas ... mientras que los agonistas ...\n",
    "\n",
    "Entonces, aprovechemos estas diferencias estructurales para filtrar ligandos y clasificarlos como agonistas o antagonistas del receptor β2 adrenérgico."
   ]
  },
  {
   "cell_type": "code",
   "execution_count": null,
   "id": "0b594415-2d58-48d1-88e4-05aec4637eed",
   "metadata": {},
   "outputs": [],
   "source": [
    "df_beta2_antagonists = filtrar_por_grupo_funcional(df_beta2_IC50, smarts='OCC(O)CNC')\n",
    "itables.show(df_beta2_antagonists)"
   ]
  },
  {
   "cell_type": "code",
   "execution_count": null,
   "id": "0db5153a-56d5-4e6f-a50d-521a59d40564",
   "metadata": {},
   "outputs": [],
   "source": [
    "graficar_espacio_quimico_con_filtro(df_adrenergicos_chemspace, df_beta2_antagonists)"
   ]
  },
  {
   "cell_type": "code",
   "execution_count": null,
   "id": "ef9ba8a0-4366-4aef-b5d3-fd67f89f5126",
   "metadata": {},
   "outputs": [],
   "source": [
    "df_beta2_agonists = filtrar_por_grupo_funcional(df_beta2_IC50, smarts='c1ccccc1C(O)CNC')\n",
    "itables.show(df_beta2_agonists)"
   ]
  },
  {
   "cell_type": "code",
   "execution_count": null,
   "id": "6b269000-903d-4769-9a75-0aaf320867da",
   "metadata": {},
   "outputs": [],
   "source": [
    "graficar_espacio_quimico_con_filtro(df_adrenergicos_chemspace, df_beta2_agonists)"
   ]
  },
  {
   "cell_type": "markdown",
   "id": "9dda67f1-ff71-41cd-aa9b-986b873e73ea",
   "metadata": {},
   "source": [
    "Al igual que hicimos previamente, podríamos analizar y comparar las propiedades fisicoquímicas de estos ligandos."
   ]
  },
  {
   "cell_type": "code",
   "execution_count": null,
   "id": "bb8233de-16ed-49e7-9089-bf9d6083d099",
   "metadata": {},
   "outputs": [],
   "source": [
    "df_beta2_antagonists = calcular_propiedades(df_beta2_antagonists)\n",
    "itables.show(df_beta2_antagonists)"
   ]
  },
  {
   "cell_type": "code",
   "execution_count": null,
   "id": "27791517-200c-4616-a987-5ee5fbf72d8a",
   "metadata": {},
   "outputs": [],
   "source": [
    "ver_rangos_propiedades(df_beta2_antagonists)"
   ]
  },
  {
   "cell_type": "code",
   "execution_count": null,
   "id": "86870957-6b37-4362-892f-d0217166d5a8",
   "metadata": {},
   "outputs": [],
   "source": [
    "df_beta2_agonists = calcular_propiedades(df_beta2_agonists)\n",
    "itables.show(df_beta2_agonists)"
   ]
  },
  {
   "cell_type": "code",
   "execution_count": null,
   "id": "4005de8b-8fcb-451d-b4ca-cf651429380b",
   "metadata": {},
   "outputs": [],
   "source": [
    "ver_rangos_propiedades(df_beta2_agonists)"
   ]
  },
  {
   "cell_type": "code",
   "execution_count": null,
   "id": "e6e3df5a-37ca-42a2-a566-8d72190c7329",
   "metadata": {},
   "outputs": [],
   "source": [
    "graficar_distribucion_descriptores(df_beta2_agonists, \"MolWt\")"
   ]
  },
  {
   "cell_type": "markdown",
   "id": "5dfe1fe5-db22-43c7-8af7-4cbcebbbd73f",
   "metadata": {},
   "source": [
    "Como podemos observar, muchas moléculas poseen propiedades drug-like que exceden los límites típicamente asociados a fármacos. Podríamos, entonces, seleccionar solamente aquellos que sí cumplan con las reglas de Lipinski, y emplear así dicho set para el posterior estudio de QSAR (TP N°4).\n"
   ]
  },
  {
   "cell_type": "code",
   "execution_count": null,
   "id": "ad52eafe-3604-4d22-8cf4-33e0e7601265",
   "metadata": {},
   "outputs": [],
   "source": [
    "criterios = {\n",
    "    'MolLogP': (0, 5),\n",
    "    'MolWt': (0, 500),\n",
    "    'NumHAcceptors': (0, 10),\n",
    "    'NumHDonors': (0, 5),\n",
    "    'NumRotatableBonds': (0, 10)\n",
    "}\n",
    "\n",
    "df_beta2_agonists_lipinski = filtrar_multiples_propiedades(df_beta2_agonists, criterios)\n",
    "itables.show(df_beta2_agonists_lipinski)"
   ]
  },
  {
   "cell_type": "code",
   "execution_count": null,
   "id": "24d63e58-0ef8-4f2e-b524-f13c7c18b11d",
   "metadata": {},
   "outputs": [],
   "source": [
    "graficar_espacio_quimico_con_filtro(df_adrenergicos_chemspace, df_beta2_agonists_lipinski)"
   ]
  },
  {
   "cell_type": "markdown",
   "id": "3dce5641-e39f-4011-a032-02f4827edbd6",
   "metadata": {},
   "source": [
    "Hasta ahora, veníamos analizando la distribución de cada descriptor molecular de forma individual. Sin embargo, ¿qué ocurre si queremos compararlos entre sí o utilizarlos juntos en un modelo matemático, como en un análisis QSAR?"
   ]
  },
  {
   "cell_type": "code",
   "execution_count": null,
   "id": "2e38e486-e9c5-4aec-99d8-6eb71023935d",
   "metadata": {},
   "outputs": [],
   "source": [
    "graficar_distribucion_descriptores_all(df_beta2_agonists_lipinski, \"IC50_value_nM\")"
   ]
  },
  {
   "cell_type": "markdown",
   "id": "5825886a-dd41-493b-942e-bba76e6bb10a",
   "metadata": {},
   "source": [
    "Como se puede observar en los gráficos, cada descriptor tiene un rango de valores muy diferente. Esta disparidad puede generar problemas al momento de construir modelos, ya que los descriptores con valores numéricamente mayores pueden tener una influencia desproporcionada en las ecuaciones, independientemente de su verdadera relevancia biológica o química. En otras palabras, el modelo podría \"pensar\" que un descriptor es más importante solo porque sus valores son más grandes en escala.\n",
    "\n",
    "Para evitar este sesgo, utilizamos una técnica conocida como normalización de datos. Esta consiste en transformar los valores de cada descriptor para que compartan un mismo rango (por ejemplo, entre 0 y 1), conservando las diferencias relativas entre moléculas. De esta manera, todos los descriptores contribuyen en igualdad de condiciones al modelo QSAR.\n",
    "\n",
    "A continuación, ejecutaremos las siguientes funciones para visualizar claramente la diferencia antes y después de normalizar los datos."
   ]
  },
  {
   "cell_type": "code",
   "execution_count": null,
   "id": "367eaa32-a7ef-499a-b68c-ca1e5e8cba31",
   "metadata": {},
   "outputs": [],
   "source": [
    "df_beta2_agonists_lipinski_norm = normalizar_desde_columna(df_beta2_agonists_lipinski, \"IC50_value_nM\")\n",
    "itables.show(df_beta2_agonists_lipinski_norm)"
   ]
  },
  {
   "cell_type": "code",
   "execution_count": null,
   "id": "090e7a95-20b1-4b56-b63a-ef9af5253a10",
   "metadata": {},
   "outputs": [],
   "source": [
    "graficar_distribucion_descriptores_all(df_beta2_agonists_lipinski_norm, \"IC50_value_nM_norm\")"
   ]
  },
  {
   "cell_type": "code",
   "execution_count": null,
   "id": "530b9ce5-7409-4502-ac44-db1a322101d9",
   "metadata": {},
   "outputs": [],
   "source": [
    "df_beta2_agonists_lipinski_norm.to_csv(\"df_beta2_agonists_lipinski_norm.csv\", index=False) #Guardamos el archivo para usar la próxima clase"
   ]
  },
  {
   "cell_type": "markdown",
   "id": "6e1d1ceb-62a6-488f-b062-527b478cce9d",
   "metadata": {},
   "source": [
    "Por último, analicemos las estructuras de este set de compuestos e intentemos establecer algunas relaciones estructura-actividad (SAR), previo al TP de la próxima semana."
   ]
  },
  {
   "cell_type": "code",
   "execution_count": null,
   "id": "30adc3d4-828f-4680-bb2e-48d5bee73a95",
   "metadata": {},
   "outputs": [],
   "source": [
    "mostrar_y_guardar_moleculas_alineadas(df=df_beta2_agonists_lipinski_norm, grupo_funcional_smiles='CC(O)CNCC', mols_per_image=70, mols_per_row=5)"
   ]
  },
  {
   "cell_type": "code",
   "execution_count": null,
   "id": "9ca68de0-1519-4c29-a8e8-4b5a39a3f5da",
   "metadata": {},
   "outputs": [],
   "source": [
    "ids_de_interes = [\"CHEMBL1160723\", \"CHEMBL434\"] # Isomería\n",
    "mostrar_moleculas_por_id(df_beta2_agonists_lipinski_norm, ids_de_interes, grupo_funcional_smiles=\"CNCCO\")"
   ]
  },
  {
   "cell_type": "code",
   "execution_count": null,
   "id": "9661a1d5-128f-45c1-9d90-726d147c7a58",
   "metadata": {},
   "outputs": [],
   "source": [
    "ids_de_interes = [\"CHEMBL388570\", \"CHEMBL229476\", \"CHEMBL229477\", \"CHEMBL389390\"] # Isomería\n",
    "mostrar_moleculas_por_id(df_beta2_agonists_lipinski_norm, ids_de_interes, grupo_funcional_smiles=\"CC(O)CNCC\")"
   ]
  },
  {
   "cell_type": "code",
   "execution_count": null,
   "id": "6b052bfc-1eff-420d-914d-3e2b8d152832",
   "metadata": {},
   "outputs": [],
   "source": [
    "ids_de_interes = [\"CHEMBL4280606\", \"CHEMBL4279962\", \"CHEMBL4279531\",\"CHEMBL4285281\"] # Restricción + Isomería\n",
    "mostrar_moleculas_por_id(df_beta2_agonists_lipinski_norm, ids_de_interes, grupo_funcional_smiles=\"CC(O)CNCC\")"
   ]
  },
  {
   "cell_type": "code",
   "execution_count": null,
   "id": "4adb7666-cbbc-4a7f-86e4-60614ba69724",
   "metadata": {},
   "outputs": [],
   "source": [
    "ids_de_interes = [\"CHEMBL229476\", \"CHEMBL1800960\"] # Homología superior\n",
    "mostrar_moleculas_por_id(df_beta2_agonists_lipinski_norm, ids_de_interes, grupo_funcional_smiles=\"CNCCO\")"
   ]
  },
  {
   "cell_type": "code",
   "execution_count": null,
   "id": "bc4005d8-efc7-46c8-83a0-7f332a1d5947",
   "metadata": {},
   "outputs": [],
   "source": [
    "ids_de_interes = [\"CHEMBL229614\", \"CHEMBL228996\", \"CHEMBL1800934\", \"CHEMBL229476\", \"CHEMBL1800962\"] # Tamaños, sustituciones, orientaciones.\n",
    "mostrar_moleculas_por_id(df_beta2_agonists_lipinski_norm, ids_de_interes, grupo_funcional_smiles=\"CNCCO\")"
   ]
  },
  {
   "cell_type": "code",
   "execution_count": null,
   "id": "ffc83c6f-8e25-41bf-a424-6ba9f1b899c4",
   "metadata": {},
   "outputs": [],
   "source": [
    "ids_de_interes = [\"CHEMBL4280606\", \"CHEMBL3747487\", \"CHEMBL3746885\", \"CHEMBL3747244\", \"CHEMBL3746280\"] # Tamaños, restricciones conformacionales, sustituciones, orientaciones.\n",
    "mostrar_moleculas_por_id(df_beta2_agonists_lipinski_norm, ids_de_interes, grupo_funcional_smiles=\"CNCCO\")"
   ]
  }
 ],
 "metadata": {
  "kernelspec": {
   "display_name": "Python 3 (ipykernel)",
   "language": "python",
   "name": "python3"
  },
  "language_info": {
   "codemirror_mode": {
    "name": "ipython",
    "version": 3
   },
   "file_extension": ".py",
   "mimetype": "text/x-python",
   "name": "python",
   "nbconvert_exporter": "python",
   "pygments_lexer": "ipython3",
   "version": "3.10.5"
  }
 },
 "nbformat": 4,
 "nbformat_minor": 5
}
